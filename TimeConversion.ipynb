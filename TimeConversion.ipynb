{
 "cells": [
  {
   "cell_type": "code",
   "execution_count": 23,
   "metadata": {},
   "outputs": [
    {
     "name": "stdout",
     "output_type": "stream",
     "text": [
      "12:40:22AM\n",
      "00:40:22\n"
     ]
    }
   ],
   "source": [
    "#Given a time in -hour AM/PM format, convert it to military (24-hour) time.\n",
    "\n",
    "#Note: - 12:00:00AM on a 12-hour clock is 00:00:00 on a 24-hour clock.\n",
    "#- 12:00:00PM on a 12-hour clock is 12:00:00 on a 24-hour clock.\n",
    "\n",
    "def AMPM(s):\n",
    "    if s[8]=='P':\n",
    "        if s[0]=='1' and s[1]=='2':\n",
    "            s.remove('P')\n",
    "            s.remove('M')\n",
    "            print(*s,sep='')\n",
    "        else:\n",
    "            s[0]=1+int(s[0])\n",
    "            s[1]=2+int(s[1])\n",
    "            s.remove('P')\n",
    "            s.remove('M')\n",
    "            \n",
    "            print (*s,sep='')\n",
    "    else:\n",
    "        if s[0]=='1' and s[1]=='2':\n",
    "            s[0]='0'\n",
    "            s[1]='0'\n",
    "            \n",
    "            s.remove('A')\n",
    "            s.remove('M')\n",
    "            print(*s,sep='')\n",
    "        else:\n",
    "            s.remove('A')\n",
    "            s.remove('M')\n",
    "            print(*s,sep='')   \n",
    "\n",
    "\n",
    "a=list(map(str,input().strip()))\n",
    "AMPM(a)\n",
    "\n",
    "\n",
    "\n"
   ]
  }
 ],
 "metadata": {
  "kernelspec": {
   "display_name": "Python 3",
   "language": "python",
   "name": "python3"
  },
  "language_info": {
   "codemirror_mode": {
    "name": "ipython",
    "version": 3
   },
   "file_extension": ".py",
   "mimetype": "text/x-python",
   "name": "python",
   "nbconvert_exporter": "python",
   "pygments_lexer": "ipython3",
   "version": "3.7.1"
  }
 },
 "nbformat": 4,
 "nbformat_minor": 2
}
